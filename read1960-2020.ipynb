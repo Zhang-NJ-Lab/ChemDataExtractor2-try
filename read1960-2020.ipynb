{
 "cells": [
  {
   "cell_type": "code",
   "execution_count": 1,
   "id": "a9d5a528-8eed-45ab-9628-f1fc3d032055",
   "metadata": {},
   "outputs": [],
   "source": [
    "file1 = open('1960-2020.txt', 'r', encoding='utf-8') # 打开要去掉空行的文件\n",
    "# file2 = open('new.txt', 'w', encoding='utf-8') # 生成没有空行的文件"
   ]
  },
  {
   "cell_type": "code",
   "execution_count": 5,
   "id": "8f0f06de-90b1-4caf-b113-9c4428c4a905",
   "metadata": {},
   "outputs": [
    {
     "name": "stdout",
     "output_type": "stream",
     "text": [
      "The spin-orbit coupled lattice system under Zeeman fields provides an ideal platform to realize exotic pairing states. Notable examples range from the topological superfluid/superconducting (tSC) state, which is gapped in the bulk but metallic at the edge, to the Fulde-Ferrell (FF) state (having a phase-modulated order parameter with a uniform amplitude) and the Larkin-Ovchinnikov (LO) state (having a spatially varying order parameter amplitude). Here, we show that the topological FF state with Chern number ( C = -1) (tFF1) and topological LO state with C = 2 (tLO_2) can be stabilized in Rashba spin-orbit coupled lattice systems in the presence of both in-plane and out-of-plane Zeeman fields. Besides the inhomogeneous tSC states, in the presence of a weak in-plane Zeeman field, two topological BCS phases may emerge with C = -1 (tBCS1) far from half filling and C = 2 (tBCS_2) near half filling. We show intriguing effects such as different spatial profiles of order parameters for FF and LO states, the topological evolution among inhomogeneous tSC states, and different non-trivial Chern numbers for the tFF_1 and tLO_1,2 states, which are peculiar to the lattice system. Global phase diagrams for various topological phases are presented for both half-filling and doped cases. The edge states as well as local density of states spectra are calculated for tSC states in a 2D strip.\n",
      "\n",
      "In this work, a simple and reproducible method for the syntheses of hybrid nickel/reduced graphene oxide electrodes is presented. This method consists in a direct modification of a conventional nickel electrodeposition bath, making the synthesis industrially scalable. The synthesized catalyst is structural and electrochemically characterized and compared to the traditional electrodeposited nickel. The kinetics of hydrogen evolution reaction (HER) is studied on both conventional nickel watts (Ni-watts) and nickel/reduced graphene oxide hybrid (NirGO). An increment in the catalytic activity is observed along with the absence of nickel hydrides. Thus, the NirGO catalyst presents a higher catalytic activity towards HER, and the presence of graphene in the Ni matrix inhibits the nickel hidruration. Graphical Abstract ᅟ\n",
      "\n",
      "\n",
      "\n",
      "\n",
      "\n",
      "\n",
      "\n",
      "Functional food concept is one of the hot topics in the food industry. In recent years, people want to consume food products having health beneficial effect as well as nutritive characteristics. Regarding functional food development, foods have also advantages and disadvantages in terms of delivering bioactive compounds due to formulation (interaction of the bioactive compound with other ingredients, calorie value provided) and production process (mechanical and thermal processes applied during production). When considering the factors restricting usage of the food products as a delivery system, chewing gum is one of the most up-and-coming products in many aspects: (i) simplicity of the formulation prevents the activity of bioactive compound by interaction, (ii) level of mechanical and thermal stresses applied during production, (iii) enabling the release of targeted molecule in a controlled and sustained manner, (iv) different consumption behavior abolishing calorie intake concern since it is only chewed without swallowing, and (v) holding time in mouth. Usage of encapsulated bioactive compounds can improve the release behavior of the functional ingredient. Mastication process and the formed matrix/structure of the chewing gum also influence the release of the bioactive compounds. The researches about improving functionality of chewing gum have indicated that chewing gum can be used as a delivery system for transportation of the desired bioactive compound to body/targeted site. However, during functional chewing gum development, formulation, production process, mastication process, and type/form of bioactive compounds should be considered to achieve the product with required functional properties.\n",
      "\n",
      "\n",
      "\n",
      "Gravitational microlensing is a technique to probe compact objects toward the center of the galaxy, such as distant stars, planets, white and brown dwarfs, black holes, and neutron stars. Since the first microlensing planet discovered in 2003, more than 40 planets have been detected with this technique, as well as several black hole candidates, and a population of potential free-floating planets. This chapter first provides a presentation of the microlensing theory, including numerical aspects to solve binary and triple lens problems, and a discussion of the microlensing planetary detection efficiency, with a high potential regarding cold planets beyond the snow line. It also explains how the planetary characterization can be facilitated when the microlensing light curves exhibit distortions due to second-order effects, such as parallax, planetary orbital motion, and extended source, and how they can also introduce degeneracies in the models. The chapter then reviews the main discoveries to date and the recent statistical results from high-cadence ground-based surveys and space-based observations, especially on the planet mass function and the distance distribution of the microlensing planetary systems. Finally, future prospects are discussed, with the expected advances from dedicated space missions, extending the planet sensitivity range down to Mercury masses.\n",
      "\n",
      "Astrophysical observations reveal a large diversity of radii and masses of exoplanets. It is important to characterize the interiors of exoplanets to understand planetary diversity and further determine how unique, or not, Earth is. Assessing interior structure is challenging because there are few data and large uncertainties. Thus, for a given exoplanet, a range of interior structure models can satisfy available data. Typically, interior models aim to constrain the radial structure and composition of the core and mantle and additionally ice, ocean, and gas layer if appropriate. Constraining the parameters of these layers may also inform us about interior dynamics. However, it remains challenging to constrain interior dynamics using interior structure models because structure models are relatively insensitive to the thermal state of a planet. Nevertheless, elucidating interior dynamics remains a key goal in exoplanetology due to its role in determining surface conditions and hence habitability. Thus far, Earth-like habitability can be excluded for super-Earths that are in close proximity to their stars and therefore have high surface temperatures that promote local magma oceans.\n",
      "\n",
      "Sesame is a valuable oilseed crop that contains various nutritionally rich bioactive compounds including lignans, tocopherol homologues, phytosterols, etc. Lignans are the product of oxidative coupling of β-hydroxyphenylpropane. Sesame has a combination of glycosylated lignans and oil-dispersed lignans. Based on their medicinal and pharmacological properties, the most important lignans are sesamin, sesamol, sesamolin, and sesaminol. Tocopherols (vitamin E compounds) are the lipid-soluble free radicals and constitute a major part of human diet. In sesame seeds, α-, γ-, and δ-tocopherols are found as tocopherol homologues. In addition to lignans and tocopherols, sesame is an important source of phytosterols, phytates, polyunsaturated fatty acids, and bioactive peptides. However, utilization potential of many of these compounds has not yet been fully understood. This chapter delves into the presence of multifarious bioactive components in sesame seeds, their biosynthetic pathway, and functional importance.\n",
      "\n"
     ]
    }
   ],
   "source": [
    "i = 0\n",
    "for each in file1:\n",
    "    print(each)\n",
    "    i += 1\n",
    "    if i >= 10: \n",
    "        break"
   ]
  },
  {
   "cell_type": "code",
   "execution_count": null,
   "id": "887bfb57-904a-4efc-9ac5-adfcdf34e7c0",
   "metadata": {},
   "outputs": [],
   "source": []
  }
 ],
 "metadata": {
  "kernelspec": {
   "display_name": "NJmatML",
   "language": "python",
   "name": "njmatml"
  },
  "language_info": {
   "codemirror_mode": {
    "name": "ipython",
    "version": 3
   },
   "file_extension": ".py",
   "mimetype": "text/x-python",
   "name": "python",
   "nbconvert_exporter": "python",
   "pygments_lexer": "ipython3",
   "version": "3.8.8"
  }
 },
 "nbformat": 4,
 "nbformat_minor": 5
}
