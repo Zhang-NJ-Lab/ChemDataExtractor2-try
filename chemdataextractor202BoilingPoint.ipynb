{
 "cells": [
  {
   "cell_type": "code",
   "execution_count": 1,
   "id": "3c496afa",
   "metadata": {},
   "outputs": [
    {
     "name": "stdout",
     "output_type": "stream",
     "text": [
      "[]\n",
      "[{'BoilingPoint': {'raw_value': '240', 'raw_units': '°C)', 'value': [240.0], 'units': 'Celsius^(1.0)', 'specifier': 'boiling point', 'compound': {'Compound': {'names': ['2,4,6-trinitrotoluene'], 'labels': ['3a'], 'roles': ['Synthesis of', 'product']}}}}]\n",
      "[{'BoilingPoint': {'raw_value': '240', 'raw_units': '°C', 'value': [240.0], 'units': 'Celsius^(1.0)', 'compound': {'Compound': {'names': ['2,4,6-trinitrotoluene'], 'labels': ['3a'], 'roles': ['product']}}}}]\n"
     ]
    }
   ],
   "source": [
    "from chemdataextractor import Document\n",
    "from chemdataextractor.model import Compound\n",
    "from chemdataextractor.doc import Paragraph, Heading\n",
    "\n",
    "d = Document(\n",
    "    Heading(u'Synthesis of 2,4,6-trinitrotoluene (3a)'),\n",
    "    Paragraph(u'The procedure was followed to yield a pale yellow solid (boiling point 240 °C)')\n",
    ")\n",
    "\n",
    "print(d.records.serialize())\n",
    "\n",
    "from chemdataextractor.model.units import TemperatureModel, Temperature, Kelvin\n",
    "from chemdataextractor.model import ListType, ModelType, StringType, Compound\n",
    "from chemdataextractor.parse import I, AutoSentenceParser, join\n",
    "\n",
    "class BoilingPoint(TemperatureModel):\n",
    "    specifier = StringType(parse_expression=(I('Boiling') + I('Point')).add_action(join))\n",
    "    compound = ModelType(Compound, required=True, contextual=True)\n",
    "    parsers = [AutoSentenceParser()]\n",
    "\n",
    "\n",
    "d = Document(\n",
    "    Heading(u'Synthesis of 2,4,6-trinitrotoluene (3a)'),\n",
    "    Paragraph(u'The procedure was followed to yield a pale yellow solid (boiling point 240 °C)'),\n",
    "    models = [BoilingPoint]\n",
    ")\n",
    "\n",
    "print(d.records.serialize())\n",
    "\n",
    "\n",
    "\n",
    "# Writing a New Parser\n",
    "\n",
    "import re\n",
    "from chemdataextractor.parse import R, I, W, Optional, merge\n",
    "\n",
    "prefix = (R(u'^b\\.?p\\.?$', re.I) | I(u'boiling') + I(u'point')).hide()\n",
    "units = (Optional(W(u'°')) + Optional(R(u'^°?[CFK]\\.?$')))(u'units').add_action(merge)\n",
    "value = R(u'^\\d+(\\.\\d+)?$')(u'value')\n",
    "bp = (prefix + value + units)(u'bp')\n",
    "\n",
    "\n",
    "\n",
    "from chemdataextractor.parse.base import BaseSentenceParser\n",
    "from chemdataextractor.utils import first\n",
    "from lxml import etree\n",
    "\n",
    "class BpParser(BaseSentenceParser):\n",
    "    root = bp\n",
    "\n",
    "    def interpret(self, result, start, end):\n",
    "        raw_value = first(result.xpath('./value/text()'))\n",
    "        raw_units = first(result.xpath('./units/text()'))\n",
    "        melting_point = self.model(raw_value=raw_value,\n",
    "                    raw_units=raw_units,\n",
    "                    value=self.extract_value(raw_value),\n",
    "                    error=self.extract_error(raw_value),\n",
    "                    units=self.extract_units(raw_units, strict=True))\n",
    "        cem_el = first(result.xpath('./cem'))\n",
    "        if cem_el is not None:\n",
    "            melting_point.compound = Compound()\n",
    "            melting_point.compound.names = cem_el.xpath('./name/text()')\n",
    "            melting_point.compound.labels = cem_el.xpath('./label/text()')\n",
    "        yield melting_point\n",
    "\n",
    "BoilingPoint.parsers = [BpParser()]\n",
    "\n",
    "d = Document(\n",
    "    Heading(u'Synthesis of 2,4,6-trinitrotoluene (3a)'),\n",
    "    Paragraph(u'The procedure was followed to yield a pale yellow solid (boiling point 240 °C)'),\n",
    "    models = [BoilingPoint]\n",
    ")\n",
    "\n",
    "print(d.records.serialize())"
   ]
  },
  {
   "cell_type": "code",
   "execution_count": null,
   "id": "dde3eb53",
   "metadata": {},
   "outputs": [],
   "source": []
  }
 ],
 "metadata": {
  "kernelspec": {
   "display_name": "Python [conda env:py37]",
   "language": "python",
   "name": "conda-env-py37-py"
  },
  "language_info": {
   "codemirror_mode": {
    "name": "ipython",
    "version": 3
   },
   "file_extension": ".py",
   "mimetype": "text/x-python",
   "name": "python",
   "nbconvert_exporter": "python",
   "pygments_lexer": "ipython3",
   "version": "3.7.0"
  }
 },
 "nbformat": 4,
 "nbformat_minor": 5
}
